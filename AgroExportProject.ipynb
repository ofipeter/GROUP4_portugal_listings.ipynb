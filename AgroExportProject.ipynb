{
 "cells": [
  {
   "cell_type": "markdown",
   "metadata": {},
   "source": [
    "# Basic Analysis:"
   ]
  },
  {
   "cell_type": "code",
   "execution_count": 1,
   "metadata": {},
   "outputs": [],
   "source": [
    "import pandas as pd\n",
    "import numpy as np\n",
    "import matplotlib.pyplot as plt\n",
    "import seaborn as sns"
   ]
  },
  {
   "cell_type": "code",
   "execution_count": 2,
   "metadata": {},
   "outputs": [
    {
     "data": {
      "text/html": [
       "<div>\n",
       "<style scoped>\n",
       "    .dataframe tbody tr th:only-of-type {\n",
       "        vertical-align: middle;\n",
       "    }\n",
       "\n",
       "    .dataframe tbody tr th {\n",
       "        vertical-align: top;\n",
       "    }\n",
       "\n",
       "    .dataframe thead th {\n",
       "        text-align: right;\n",
       "    }\n",
       "</style>\n",
       "<table border=\"1\" class=\"dataframe\">\n",
       "  <thead>\n",
       "    <tr style=\"text-align: right;\">\n",
       "      <th></th>\n",
       "      <th>Product Name</th>\n",
       "      <th>Company</th>\n",
       "      <th>Export Country</th>\n",
       "      <th>Date</th>\n",
       "      <th>Units Sold</th>\n",
       "      <th>unit_price</th>\n",
       "      <th>Profit per unit</th>\n",
       "      <th>Export Value</th>\n",
       "      <th>Destination Port</th>\n",
       "      <th>Transportation Mode</th>\n",
       "    </tr>\n",
       "  </thead>\n",
       "  <tbody>\n",
       "    <tr>\n",
       "      <th>0</th>\n",
       "      <td>Rubber</td>\n",
       "      <td>Farmgate Nigeria Limited</td>\n",
       "      <td>Austria</td>\n",
       "      <td>2023-11-16</td>\n",
       "      <td>721.0</td>\n",
       "      <td>31443.05</td>\n",
       "      <td>5863.92</td>\n",
       "      <td>22670439.05</td>\n",
       "      <td>Lagos</td>\n",
       "      <td>Sea</td>\n",
       "    </tr>\n",
       "    <tr>\n",
       "      <th>1</th>\n",
       "      <td>Palm Oil</td>\n",
       "      <td>Prime Agro Exports Nigeria Limited</td>\n",
       "      <td>Germany</td>\n",
       "      <td>2021-01-08</td>\n",
       "      <td>881.0</td>\n",
       "      <td>23151.97</td>\n",
       "      <td>5868.73</td>\n",
       "      <td>20396885.57</td>\n",
       "      <td>Lagos</td>\n",
       "      <td>Sea</td>\n",
       "    </tr>\n",
       "    <tr>\n",
       "      <th>2</th>\n",
       "      <td>Cassava</td>\n",
       "      <td>Farmgate Nigeria Limited</td>\n",
       "      <td>Germany</td>\n",
       "      <td>2020-10-14</td>\n",
       "      <td>702.0</td>\n",
       "      <td>18536.45</td>\n",
       "      <td>5105.01</td>\n",
       "      <td>13012587.90</td>\n",
       "      <td>Calabar</td>\n",
       "      <td>Sea</td>\n",
       "    </tr>\n",
       "    <tr>\n",
       "      <th>3</th>\n",
       "      <td>Rubber</td>\n",
       "      <td>Nigerian Export Promotion Council (NEPC)</td>\n",
       "      <td>Belgium</td>\n",
       "      <td>2022-12-31</td>\n",
       "      <td>191.0</td>\n",
       "      <td>21981.31</td>\n",
       "      <td>7781.54</td>\n",
       "      <td>4198430.21</td>\n",
       "      <td>Warri</td>\n",
       "      <td>Sea</td>\n",
       "    </tr>\n",
       "    <tr>\n",
       "      <th>4</th>\n",
       "      <td>Sesame</td>\n",
       "      <td>Nigeria Agro Export Company</td>\n",
       "      <td>France</td>\n",
       "      <td>2022-12-19</td>\n",
       "      <td>373.0</td>\n",
       "      <td>13415.94</td>\n",
       "      <td>9590.95</td>\n",
       "      <td>5004145.62</td>\n",
       "      <td>Lagos</td>\n",
       "      <td>Sea</td>\n",
       "    </tr>\n",
       "    <tr>\n",
       "      <th>5</th>\n",
       "      <td>Palm Oil</td>\n",
       "      <td>Greenfield Agro Exporters Nigeria Limited</td>\n",
       "      <td>Netherlands</td>\n",
       "      <td>2021-07-13</td>\n",
       "      <td>593.0</td>\n",
       "      <td>44749.95</td>\n",
       "      <td>4498.48</td>\n",
       "      <td>26536720.35</td>\n",
       "      <td>Lagos</td>\n",
       "      <td>Sea</td>\n",
       "    </tr>\n",
       "    <tr>\n",
       "      <th>6</th>\n",
       "      <td>Rubber</td>\n",
       "      <td>Solid Agro Nigeria Limited</td>\n",
       "      <td>Denmark</td>\n",
       "      <td>2022-02-22</td>\n",
       "      <td>142.0</td>\n",
       "      <td>21985.66</td>\n",
       "      <td>5963.85</td>\n",
       "      <td>3121963.72</td>\n",
       "      <td>Lagos</td>\n",
       "      <td>Sea</td>\n",
       "    </tr>\n",
       "    <tr>\n",
       "      <th>7</th>\n",
       "      <td>Sesame</td>\n",
       "      <td>Nigerian Export Promotion Council (NEPC)</td>\n",
       "      <td>Sweden</td>\n",
       "      <td>2021-03-22</td>\n",
       "      <td>990.0</td>\n",
       "      <td>16931.73</td>\n",
       "      <td>3464.19</td>\n",
       "      <td>16762412.70</td>\n",
       "      <td>Calabar</td>\n",
       "      <td>Sea</td>\n",
       "    </tr>\n",
       "    <tr>\n",
       "      <th>8</th>\n",
       "      <td>Rubber</td>\n",
       "      <td>Agro Export Nigeria Ltd</td>\n",
       "      <td>Denmark</td>\n",
       "      <td>2022-08-01</td>\n",
       "      <td>606.0</td>\n",
       "      <td>17896.94</td>\n",
       "      <td>5326.45</td>\n",
       "      <td>10845545.64</td>\n",
       "      <td>Lagos</td>\n",
       "      <td>Sea</td>\n",
       "    </tr>\n",
       "    <tr>\n",
       "      <th>9</th>\n",
       "      <td>Cashew</td>\n",
       "      <td>Golden Farms Nigeria Limited</td>\n",
       "      <td>Netherlands</td>\n",
       "      <td>2020-11-26</td>\n",
       "      <td>900.0</td>\n",
       "      <td>42463.53</td>\n",
       "      <td>5468.54</td>\n",
       "      <td>38217177.00</td>\n",
       "      <td>Lagos</td>\n",
       "      <td>Sea</td>\n",
       "    </tr>\n",
       "  </tbody>\n",
       "</table>\n",
       "</div>"
      ],
      "text/plain": [
       "  Product Name                                    Company Export Country  \\\n",
       "0       Rubber                   Farmgate Nigeria Limited        Austria   \n",
       "1     Palm Oil         Prime Agro Exports Nigeria Limited        Germany   \n",
       "2      Cassava                   Farmgate Nigeria Limited        Germany   \n",
       "3       Rubber   Nigerian Export Promotion Council (NEPC)        Belgium   \n",
       "4       Sesame                Nigeria Agro Export Company         France   \n",
       "5     Palm Oil  Greenfield Agro Exporters Nigeria Limited    Netherlands   \n",
       "6       Rubber                 Solid Agro Nigeria Limited        Denmark   \n",
       "7       Sesame   Nigerian Export Promotion Council (NEPC)         Sweden   \n",
       "8       Rubber                    Agro Export Nigeria Ltd        Denmark   \n",
       "9       Cashew               Golden Farms Nigeria Limited    Netherlands   \n",
       "\n",
       "        Date  Units Sold  unit_price  Profit per unit  Export Value  \\\n",
       "0 2023-11-16       721.0    31443.05          5863.92   22670439.05   \n",
       "1 2021-01-08       881.0    23151.97          5868.73   20396885.57   \n",
       "2 2020-10-14       702.0    18536.45          5105.01   13012587.90   \n",
       "3 2022-12-31       191.0    21981.31          7781.54    4198430.21   \n",
       "4 2022-12-19       373.0    13415.94          9590.95    5004145.62   \n",
       "5 2021-07-13       593.0    44749.95          4498.48   26536720.35   \n",
       "6 2022-02-22       142.0    21985.66          5963.85    3121963.72   \n",
       "7 2021-03-22       990.0    16931.73          3464.19   16762412.70   \n",
       "8 2022-08-01       606.0    17896.94          5326.45   10845545.64   \n",
       "9 2020-11-26       900.0    42463.53          5468.54   38217177.00   \n",
       "\n",
       "  Destination Port Transportation Mode  \n",
       "0            Lagos                 Sea  \n",
       "1            Lagos                 Sea  \n",
       "2          Calabar                 Sea  \n",
       "3            Warri                 Sea  \n",
       "4            Lagos                 Sea  \n",
       "5            Lagos                 Sea  \n",
       "6            Lagos                 Sea  \n",
       "7          Calabar                 Sea  \n",
       "8            Lagos                 Sea  \n",
       "9            Lagos                 Sea  "
      ]
     },
     "execution_count": 2,
     "metadata": {},
     "output_type": "execute_result"
    }
   ],
   "source": [
    "# Read the file\n",
    "df = pd.read_excel(r\"C:\\Users\\Dre\\Downloads\\Copy of wfshg (1).xlsx\")\n",
    "df.head(10)\n"
   ]
  },
  {
   "cell_type": "code",
   "execution_count": 3,
   "metadata": {},
   "outputs": [
    {
     "data": {
      "text/html": [
       "<div>\n",
       "<style scoped>\n",
       "    .dataframe tbody tr th:only-of-type {\n",
       "        vertical-align: middle;\n",
       "    }\n",
       "\n",
       "    .dataframe tbody tr th {\n",
       "        vertical-align: top;\n",
       "    }\n",
       "\n",
       "    .dataframe thead th {\n",
       "        text-align: right;\n",
       "    }\n",
       "</style>\n",
       "<table border=\"1\" class=\"dataframe\">\n",
       "  <thead>\n",
       "    <tr style=\"text-align: right;\">\n",
       "      <th></th>\n",
       "      <th>Units Sold</th>\n",
       "      <th>unit_price</th>\n",
       "      <th>Profit per unit</th>\n",
       "      <th>Export Value</th>\n",
       "    </tr>\n",
       "  </thead>\n",
       "  <tbody>\n",
       "    <tr>\n",
       "      <th>count</th>\n",
       "      <td>1000.000000</td>\n",
       "      <td>1000.000000</td>\n",
       "      <td>1000.000000</td>\n",
       "      <td>1.000000e+03</td>\n",
       "    </tr>\n",
       "    <tr>\n",
       "      <th>mean</th>\n",
       "      <td>536.804000</td>\n",
       "      <td>30010.266660</td>\n",
       "      <td>6125.299550</td>\n",
       "      <td>1.631766e+07</td>\n",
       "    </tr>\n",
       "    <tr>\n",
       "      <th>std</th>\n",
       "      <td>251.311112</td>\n",
       "      <td>11515.423486</td>\n",
       "      <td>2269.844681</td>\n",
       "      <td>1.028734e+07</td>\n",
       "    </tr>\n",
       "    <tr>\n",
       "      <th>min</th>\n",
       "      <td>103.000000</td>\n",
       "      <td>10006.540000</td>\n",
       "      <td>2000.300000</td>\n",
       "      <td>1.323777e+06</td>\n",
       "    </tr>\n",
       "    <tr>\n",
       "      <th>25%</th>\n",
       "      <td>322.750000</td>\n",
       "      <td>20013.620000</td>\n",
       "      <td>4261.327500</td>\n",
       "      <td>7.669552e+06</td>\n",
       "    </tr>\n",
       "    <tr>\n",
       "      <th>50%</th>\n",
       "      <td>519.000000</td>\n",
       "      <td>30082.600000</td>\n",
       "      <td>6132.150000</td>\n",
       "      <td>1.441451e+07</td>\n",
       "    </tr>\n",
       "    <tr>\n",
       "      <th>75%</th>\n",
       "      <td>743.250000</td>\n",
       "      <td>39955.005000</td>\n",
       "      <td>8038.315000</td>\n",
       "      <td>2.262969e+07</td>\n",
       "    </tr>\n",
       "    <tr>\n",
       "      <th>max</th>\n",
       "      <td>999.000000</td>\n",
       "      <td>49985.860000</td>\n",
       "      <td>9990.570000</td>\n",
       "      <td>4.712082e+07</td>\n",
       "    </tr>\n",
       "  </tbody>\n",
       "</table>\n",
       "</div>"
      ],
      "text/plain": [
       "        Units Sold    unit_price  Profit per unit  Export Value\n",
       "count  1000.000000   1000.000000      1000.000000  1.000000e+03\n",
       "mean    536.804000  30010.266660      6125.299550  1.631766e+07\n",
       "std     251.311112  11515.423486      2269.844681  1.028734e+07\n",
       "min     103.000000  10006.540000      2000.300000  1.323777e+06\n",
       "25%     322.750000  20013.620000      4261.327500  7.669552e+06\n",
       "50%     519.000000  30082.600000      6132.150000  1.441451e+07\n",
       "75%     743.250000  39955.005000      8038.315000  2.262969e+07\n",
       "max     999.000000  49985.860000      9990.570000  4.712082e+07"
      ]
     },
     "execution_count": 3,
     "metadata": {},
     "output_type": "execute_result"
    }
   ],
   "source": [
    "df.describe()"
   ]
  },
  {
   "cell_type": "code",
   "execution_count": 4,
   "metadata": {},
   "outputs": [
    {
     "data": {
      "text/plain": [
       "Product Name           0\n",
       "Company                0\n",
       "Export Country         0\n",
       "Date                   0\n",
       "Units Sold             0\n",
       "unit_price             0\n",
       "Profit per unit        0\n",
       "Export Value           0\n",
       "Destination Port       0\n",
       "Transportation Mode    0\n",
       "dtype: int64"
      ]
     },
     "execution_count": 4,
     "metadata": {},
     "output_type": "execute_result"
    }
   ],
   "source": [
    "df.isnull().sum()"
   ]
  },
  {
   "cell_type": "code",
   "execution_count": 5,
   "metadata": {
    "scrolled": true
   },
   "outputs": [
    {
     "name": "stdout",
     "output_type": "stream",
     "text": [
      "Product Name\n",
      "Cashew      70833.0\n",
      "Cassava     64234.0\n",
      "Cocoa       76129.0\n",
      "Ginger      54093.0\n",
      "Palm Oil    63879.0\n",
      "Plantain    64863.0\n",
      "Rubber      66641.0\n",
      "Sesame      76132.0\n",
      "Name: Units Sold, dtype: float64\n"
     ]
    }
   ],
   "source": [
    "# 1. Total Units Sold by Product: Which product has the highest total units sold across all exports?\n",
    "total_unit_sold = df.groupby('Product Name')['Units Sold'].sum()\n",
    "print(total_unit_sold)"
   ]
  },
  {
   "cell_type": "code",
   "execution_count": 6,
   "metadata": {},
   "outputs": [
    {
     "name": "stdout",
     "output_type": "stream",
     "text": [
      "Highest Total Units Sold by Product:\n",
      " Sesame\n"
     ]
    }
   ],
   "source": [
    "highest_total_unit = total_unit_sold.idxmax()\n",
    "print(\"Highest Total Units Sold by Product:\\n\", highest_total_unit)"
   ]
  },
  {
   "cell_type": "code",
   "execution_count": 7,
   "metadata": {},
   "outputs": [
    {
     "name": "stdout",
     "output_type": "stream",
     "text": [
      "Company\n",
      "Agriplus Nigeria Limited                     52139.0\n",
      "Agro Allied Exporters Nigeria Limited        47204.0\n",
      "Agro Export Nigeria Ltd                      59944.0\n",
      "Farmgate Nigeria Limited                     52010.0\n",
      "Golden Farms Nigeria Limited                 60724.0\n",
      "Greenfield Agro Exporters Nigeria Limited    50633.0\n",
      "Nigeria Agro Export Company                  54717.0\n",
      "Nigerian Export Promotion Council (NEPC)     55833.0\n",
      "Prime Agro Exports Nigeria Limited           52035.0\n",
      "Solid Agro Nigeria Limited                   51565.0\n",
      "Name: Units Sold, dtype: float64\n"
     ]
    }
   ],
   "source": [
    "# 2. Company Contribution: Which company exported the most units?\n",
    "company_total_unit = df.groupby(\"Company\")[\"Units Sold\"].sum()\n",
    "print(company_total_unit)"
   ]
  },
  {
   "cell_type": "code",
   "execution_count": 8,
   "metadata": {},
   "outputs": [
    {
     "name": "stdout",
     "output_type": "stream",
     "text": [
      "Company That Export The Most Units;\n",
      " Golden Farms Nigeria Limited\n"
     ]
    }
   ],
   "source": [
    "highest_company_unit = company_total_unit.idxmax()\n",
    "print(\"Company That Export The Most Units;\\n\", highest_company_unit)"
   ]
  },
  {
   "cell_type": "code",
   "execution_count": 9,
   "metadata": {
    "scrolled": true
   },
   "outputs": [
    {
     "name": "stdout",
     "output_type": "stream",
     "text": [
      "Company\n",
      "Agriplus Nigeria Limited                     52139.0\n",
      "Agro Allied Exporters Nigeria Limited        47204.0\n",
      "Agro Export Nigeria Ltd                      59944.0\n",
      "Farmgate Nigeria Limited                     52010.0\n",
      "Golden Farms Nigeria Limited                 60724.0\n",
      "Greenfield Agro Exporters Nigeria Limited    50633.0\n",
      "Nigeria Agro Export Company                  54717.0\n",
      "Nigerian Export Promotion Council (NEPC)     55833.0\n",
      "Prime Agro Exports Nigeria Limited           52035.0\n",
      "Solid Agro Nigeria Limited                   51565.0\n",
      "Name: Units Sold, dtype: float64\n"
     ]
    }
   ],
   "source": [
    "# What percentage of the total units sold does each company contribute?\n",
    "total_unit_company = df.groupby('Company')['Units Sold'].sum()\n",
    "print(total_unit_company)"
   ]
  },
  {
   "cell_type": "code",
   "execution_count": 10,
   "metadata": {},
   "outputs": [
    {
     "name": "stdout",
     "output_type": "stream",
     "text": [
      "Percentage Companies Contributed:\n",
      " Company\n",
      "Agriplus Nigeria Limited                      9.712856\n",
      "Agro Allied Exporters Nigeria Limited         8.793526\n",
      "Agro Export Nigeria Ltd                      11.166832\n",
      "Farmgate Nigeria Limited                      9.688825\n",
      "Golden Farms Nigeria Limited                 11.312136\n",
      "Greenfield Agro Exporters Nigeria Limited     9.432307\n",
      "Nigeria Agro Export Company                  10.193106\n",
      "Nigerian Export Promotion Council (NEPC)     10.401003\n",
      "Prime Agro Exports Nigeria Limited            9.693482\n",
      "Solid Agro Nigeria Limited                    9.605927\n",
      "Name: Units Sold, dtype: float64\n"
     ]
    }
   ],
   "source": [
    "total_percentage = (total_unit_company / total_unit_company.sum()) * 100\n",
    "print(\"Percentage Companies Contributed:\\n\", total_percentage)"
   ]
  },
  {
   "cell_type": "code",
   "execution_count": 11,
   "metadata": {},
   "outputs": [
    {
     "name": "stdout",
     "output_type": "stream",
     "text": [
      "Destination Port\n",
      "Calabar           70315.0\n",
      "Lagos            316417.0\n",
      "Port Harcourt     70736.0\n",
      "Warri             79336.0\n",
      "Name: Units Sold, dtype: float64\n"
     ]
    }
   ],
   "source": [
    "# 3. Top Destination Ports: \n",
    "# Which destination port has received the highest number of units sold?\n",
    "total_unit_sold = df.groupby('Destination Port')['Units Sold'].sum()\n",
    "print(total_unit_sold)"
   ]
  },
  {
   "cell_type": "code",
   "execution_count": 12,
   "metadata": {},
   "outputs": [
    {
     "name": "stdout",
     "output_type": "stream",
     "text": [
      "Port That Received Highest Units Sold:\n",
      " Lagos\n"
     ]
    }
   ],
   "source": [
    "port_receiving = total_unit_sold.idxmax()\n",
    "print(\"Port That Received Highest Units Sold:\\n\", port_receiving)"
   ]
  },
  {
   "cell_type": "code",
   "execution_count": 13,
   "metadata": {},
   "outputs": [
    {
     "name": "stdout",
     "output_type": "stream",
     "text": [
      "Avg. Unit Price For Each Product:\n",
      " Product Name\n",
      "Cashew      29305.853237\n",
      "Cassava     28566.641833\n",
      "Cocoa       31227.870000\n",
      "Ginger      29061.767327\n",
      "Palm Oil    30126.338306\n",
      "Plantain    30200.084754\n",
      "Rubber      31673.915680\n",
      "Sesame      29678.281729\n",
      "Name: unit_price, dtype: float64\n"
     ]
    }
   ],
   "source": [
    "# 4. Average Unit Price per Product: \n",
    "# What is the average unit price for each product exported?\n",
    "avg_price = df.groupby('Product Name')['unit_price'].mean()\n",
    "\n",
    "print(\"Avg. Unit Price For Each Product:\\n\", avg_price)"
   ]
  },
  {
   "cell_type": "markdown",
   "metadata": {},
   "source": [
    "# Sales Performance Analysis:"
   ]
  },
  {
   "cell_type": "code",
   "execution_count": 14,
   "metadata": {},
   "outputs": [
    {
     "name": "stdout",
     "output_type": "stream",
     "text": [
      "Products Total Export Value:\n",
      " Product Name\n",
      "Cashew      2.110679e+09\n",
      "Cassava     1.913308e+09\n",
      "Cocoa       2.384889e+09\n",
      "Ginger      1.600416e+09\n",
      "Palm Oil    1.974586e+09\n",
      "Plantain    1.947170e+09\n",
      "Rubber      2.118010e+09\n",
      "Sesame      2.268608e+09\n",
      "Name: Export Value, dtype: float64\n",
      "Companies Total Highest Export Value:\n",
      " Company\n",
      "Agriplus Nigeria Limited                     1.503023e+09\n",
      "Agro Allied Exporters Nigeria Limited        1.493038e+09\n",
      "Agro Export Nigeria Ltd                      1.867915e+09\n",
      "Farmgate Nigeria Limited                     1.615238e+09\n",
      "Golden Farms Nigeria Limited                 1.732721e+09\n",
      "Greenfield Agro Exporters Nigeria Limited    1.506893e+09\n",
      "Nigeria Agro Export Company                  1.704148e+09\n",
      "Nigerian Export Promotion Council (NEPC)     1.647088e+09\n",
      "Prime Agro Exports Nigeria Limited           1.706072e+09\n",
      "Solid Agro Nigeria Limited                   1.541530e+09\n",
      "Name: Export Value, dtype: float64\n"
     ]
    }
   ],
   "source": [
    "# 5. Highest Export Value:\n",
    "# Which product or company has the highest export value, and what is that value?\n",
    "product_export_value = df.groupby('Product Name')['Export Value'].sum()\n",
    "company_export_value = df.groupby('Company')['Export Value'].sum()\n",
    "\n",
    "print(\"Products Total Export Value:\\n\", product_export_value)\n",
    "print(\"Companies Total Highest Export Value:\\n\", company_export_value)"
   ]
  },
  {
   "cell_type": "code",
   "execution_count": 15,
   "metadata": {},
   "outputs": [
    {
     "name": "stdout",
     "output_type": "stream",
     "text": [
      "Product with Highest Export:\n",
      " Cocoa\n",
      "Company with Highest Export:\n",
      " Agro Export Nigeria Ltd\n"
     ]
    }
   ],
   "source": [
    "product_highest_export = product_export_value.idxmax()\n",
    "company_highest_export = company_export_value.idxmax()\n",
    "\n",
    "print(\"Product with Highest Export:\\n\", product_highest_export)\n",
    "print(\"Company with Highest Export:\\n\", company_highest_export)"
   ]
  },
  {
   "cell_type": "code",
   "execution_count": 16,
   "metadata": {},
   "outputs": [
    {
     "name": "stdout",
     "output_type": "stream",
     "text": [
      "Total Profit For Each Product:\n",
      " Product Name\n",
      "Cashew      882676.42\n",
      "Cassava     774218.24\n",
      "Cocoa       792905.78\n",
      "Ginger      602576.97\n",
      "Palm Oil    750502.78\n",
      "Plantain    746278.03\n",
      "Rubber      726338.45\n",
      "Sesame      849802.88\n",
      "Name: Profit per unit, dtype: float64\n"
     ]
    }
   ],
   "source": [
    "# 6. Profitability by Product:\n",
    "# What is the total profit generated by each product?\n",
    "group_total_profit = df.groupby('Product Name')['Profit per unit'].sum()\n",
    "print(\"Total Profit For Each Product:\\n\", group_total_profit)"
   ]
  },
  {
   "cell_type": "code",
   "execution_count": 17,
   "metadata": {},
   "outputs": [
    {
     "name": "stdout",
     "output_type": "stream",
     "text": [
      "Product Name\n",
      "Cashew      6350.190072\n",
      "Cassava     6451.818667\n",
      "Cocoa       5830.189559\n",
      "Ginger      5966.108614\n",
      "Palm Oil    6052.441774\n",
      "Plantain    6117.033033\n",
      "Rubber      5810.707600\n",
      "Sesame      6389.495338\n",
      "Name: Profit per unit, dtype: float64\n"
     ]
    }
   ],
   "source": [
    "# Which product generates the most profit per unit on average?\n",
    "profit_average = df.groupby('Product Name')['Profit per unit'].mean()\n",
    "print(profit_average)"
   ]
  },
  {
   "cell_type": "code",
   "execution_count": 18,
   "metadata": {},
   "outputs": [
    {
     "name": "stdout",
     "output_type": "stream",
     "text": [
      "Product With Most Average Profit Per Unit:\n",
      " Cassava\n"
     ]
    }
   ],
   "source": [
    "product_average_profit = profit_average.idxmax()\n",
    "print(\"Product With Most Average Profit Per Unit:\\n\", product_average_profit)"
   ]
  },
  {
   "cell_type": "code",
   "execution_count": 19,
   "metadata": {},
   "outputs": [
    {
     "name": "stdout",
     "output_type": "stream",
     "text": [
      "Export Country\n",
      "Austria        1.530521e+09\n",
      "Belgium        1.605707e+09\n",
      "Denmark        1.831246e+09\n",
      "France         1.805864e+09\n",
      "Germany        1.396341e+09\n",
      "Italy          1.962587e+09\n",
      "Netherlands    1.534358e+09\n",
      "Spain          1.489989e+09\n",
      "Sweden         1.497263e+09\n",
      "Switzerland    1.663790e+09\n",
      "Name: Export Value, dtype: float64\n"
     ]
    }
   ],
   "source": [
    "# 7. Export by Country: \n",
    "# Which export country contributes the most to the total export value?\n",
    "tot_xport_value = df.groupby('Export Country')['Export Value'].sum()\n",
    "print(tot_xport_value)"
   ]
  },
  {
   "cell_type": "code",
   "execution_count": 20,
   "metadata": {},
   "outputs": [
    {
     "name": "stdout",
     "output_type": "stream",
     "text": [
      "Country With Most Export Value:\n",
      " Italy\n"
     ]
    }
   ],
   "source": [
    "country_xport_value = tot_xport_value.idxmax()\n",
    "print(\"Country With Most Export Value:\\n\", country_xport_value)"
   ]
  },
  {
   "cell_type": "markdown",
   "metadata": {},
   "source": [
    "# Date and Time-based Analysis:"
   ]
  },
  {
   "cell_type": "code",
   "execution_count": null,
   "metadata": {},
   "outputs": [],
   "source": []
  }
 ],
 "metadata": {
  "kernelspec": {
   "display_name": "Python 3",
   "language": "python",
   "name": "python3"
  },
  "language_info": {
   "codemirror_mode": {
    "name": "ipython",
    "version": 3
   },
   "file_extension": ".py",
   "mimetype": "text/x-python",
   "name": "python",
   "nbconvert_exporter": "python",
   "pygments_lexer": "ipython3",
   "version": "3.7.4"
  }
 },
 "nbformat": 4,
 "nbformat_minor": 2
}
